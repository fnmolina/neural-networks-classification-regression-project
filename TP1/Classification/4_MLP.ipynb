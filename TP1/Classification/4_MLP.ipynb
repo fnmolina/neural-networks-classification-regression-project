{
  "cells": [
    {
      "cell_type": "code",
      "source": [
        "from google.colab import drive\n",
        "drive.mount('/content/drive')"
      ],
      "metadata": {
        "colab": {
          "base_uri": "https://localhost:8080/"
        },
        "id": "NupgD9zn00nj",
        "outputId": "a1d34fa2-4257-44ba-a0d9-65a37bc3a4de"
      },
      "execution_count": 1,
      "outputs": [
        {
          "output_type": "stream",
          "name": "stdout",
          "text": [
            "Mounted at /content/drive\n"
          ]
        }
      ]
    },
    {
      "cell_type": "code",
      "source": [
        "import sys\n",
        "sys.path.append('/content/drive/MyDrive')\n",
        "import helper as hp"
      ],
      "metadata": {
        "id": "4hn88OAG1hNA"
      },
      "execution_count": 2,
      "outputs": []
    },
    {
      "cell_type": "markdown",
      "metadata": {
        "id": "7vCUbvWDQ_em"
      },
      "source": [
        "# MLP"
      ]
    },
    {
      "cell_type": "code",
      "execution_count": 3,
      "metadata": {
        "id": "vas3QgKTPydR"
      },
      "outputs": [],
      "source": [
        "import numpy as np\n",
        "import pandas as pd\n",
        "import matplotlib.pyplot as plt"
      ]
    },
    {
      "cell_type": "code",
      "execution_count": 4,
      "metadata": {
        "id": "v19B5VYW0wdw"
      },
      "outputs": [],
      "source": [
        "from keras.models import Sequential\n",
        "from keras import regularizers\n",
        "from keras.layers import Dense, BatchNormalization, Dropout, Flatten, Activation\n",
        "from keras.optimizers import Adam, RMSprop, SGD, Adagrad, Adadelta, Adamax, Nadam\n",
        "from keras.metrics import SensitivityAtSpecificity\n",
        "from keras.callbacks import TensorBoard, ModelCheckpoint, EarlyStopping, Callback\n",
        "from keras.utils import np_utils\n",
        "import keras.backend as K\n",
        "from keras import Model\n",
        "import datetime\n",
        "\n",
        "from sklearn.metrics import confusion_matrix, f1_score, precision_score, recall_score, roc_curve, auc, roc_auc_score\n",
        "from itertools import cycle\n",
        "from keras.models import clone_model\n",
        "\n"
      ]
    },
    {
      "cell_type": "code",
      "execution_count": 5,
      "metadata": {
        "id": "vK-eUZeARJgj",
        "colab": {
          "base_uri": "https://localhost:8080/"
        },
        "outputId": "dcf67206-6379-42e3-a9ec-0d6f5f5a9c9b"
      },
      "outputs": [
        {
          "output_type": "stream",
          "name": "stdout",
          "text": [
            "Downloading data from https://storage.googleapis.com/tensorflow/tf-keras-datasets/train-labels-idx1-ubyte.gz\n",
            "29515/29515 [==============================] - 0s 0us/step\n",
            "Downloading data from https://storage.googleapis.com/tensorflow/tf-keras-datasets/train-images-idx3-ubyte.gz\n",
            "26421880/26421880 [==============================] - 0s 0us/step\n",
            "Downloading data from https://storage.googleapis.com/tensorflow/tf-keras-datasets/t10k-labels-idx1-ubyte.gz\n",
            "5148/5148 [==============================] - 0s 0us/step\n",
            "Downloading data from https://storage.googleapis.com/tensorflow/tf-keras-datasets/t10k-images-idx3-ubyte.gz\n",
            "4422102/4422102 [==============================] - 0s 0us/step\n"
          ]
        }
      ],
      "source": [
        "from keras.datasets import fashion_mnist\n",
        "(x_train, y_train), (x_test, y_test) = fashion_mnist.load_data()\n",
        "\n",
        "class_names = ['T-shirt/top', 'Trouser', 'Pullover', 'Dress', 'Coat',\n",
        "               'Sandal',      'Shirt',   'Sneaker',  'Bag',   'Ankle boot']\n",
        "\n",
        "\n"
      ]
    },
    {
      "cell_type": "markdown",
      "source": [
        "### Sparse arrays"
      ],
      "metadata": {
        "id": "5j3BybMC06nK"
      }
    },
    {
      "cell_type": "code",
      "source": [
        "y_sparse_train = np.zeros([len(y_train),10])\n",
        "y_sparse_test = np.zeros([len(y_test),10])\n",
        "for idx in range(len(y_train)):\n",
        "    y_sparse_train[idx,y_train[idx]] = 1\n",
        "\n",
        "for idx in range(len(y_test)):\n",
        "    y_sparse_test[idx,y_test[idx]] = 1"
      ],
      "metadata": {
        "id": "KXM8J2US06Ss"
      },
      "execution_count": 6,
      "outputs": []
    },
    {
      "cell_type": "markdown",
      "source": [
        "## 3 Hidden layers\n"
      ],
      "metadata": {
        "id": "RiRhHMKN3mn5"
      }
    },
    {
      "cell_type": "code",
      "source": [
        "K.clear_session()\n",
        "\n",
        "model_1 = Sequential()\n",
        "model_1.add(Flatten(input_shape=(28,28)))\n",
        "model_1.add(BatchNormalization())\n",
        "model_1.add(Dense(512, activation = 'relu', kernel_initializer = 'random_normal'))\n",
        "model_1.add(Dropout(0.125))\n",
        "model_1.add(Dense(128, activation = 'relu', kernel_initializer = 'random_normal'))\n",
        "model_1.add(Dropout(0.125))\n",
        "model_1.add(Dense(64, activation = 'relu', kernel_initializer = 'random_normal'))\n",
        "model_1.add(Dropout(0.125))\n",
        "model_1.add(Dense(10, activation='softmax', kernel_initializer='random_normal', name='Output'))\n",
        "\n",
        "model_1.summary()\n",
        "\n",
        "model_1.compile(loss=\"categorical_crossentropy\", optimizer=Adam(learning_rate=0.001), metrics=['accuracy'])"
      ],
      "metadata": {
        "colab": {
          "base_uri": "https://localhost:8080/"
        },
        "id": "pPBzukqK3pQ9",
        "outputId": "65d33d29-f82a-4c22-9064-77041bfd4e49"
      },
      "execution_count": 9,
      "outputs": [
        {
          "output_type": "stream",
          "name": "stdout",
          "text": [
            "Model: \"sequential\"\n",
            "_________________________________________________________________\n",
            " Layer (type)                Output Shape              Param #   \n",
            "=================================================================\n",
            " flatten (Flatten)           (None, 784)               0         \n",
            "                                                                 \n",
            " batch_normalization (BatchN  (None, 784)              3136      \n",
            " ormalization)                                                   \n",
            "                                                                 \n",
            " dense (Dense)               (None, 512)               401920    \n",
            "                                                                 \n",
            " dropout (Dropout)           (None, 512)               0         \n",
            "                                                                 \n",
            " dense_1 (Dense)             (None, 128)               65664     \n",
            "                                                                 \n",
            " dropout_1 (Dropout)         (None, 128)               0         \n",
            "                                                                 \n",
            " dense_2 (Dense)             (None, 64)                8256      \n",
            "                                                                 \n",
            " dropout_2 (Dropout)         (None, 64)                0         \n",
            "                                                                 \n",
            " Output (Dense)              (None, 10)                650       \n",
            "                                                                 \n",
            "=================================================================\n",
            "Total params: 479,626\n",
            "Trainable params: 478,058\n",
            "Non-trainable params: 1,568\n",
            "_________________________________________________________________\n"
          ]
        }
      ]
    },
    {
      "cell_type": "code",
      "source": [
        "model_2 = clone_model(model_1)\n",
        "model_2.compile(loss=\"categorical_crossentropy\", optimizer=Adam(learning_rate=0.001), metrics=['accuracy'])\n",
        "model_trained_2 = model_2.fit(x_train,\n",
        "                                  y_sparse_train,\n",
        "                                  epochs=512, batch_size=128,\n",
        "                                  verbose=1,\n",
        "                                  validation_data = (x_test, y_sparse_test),\n",
        "                                  callbacks=[hp.callback_EarlyStopping()],\n",
        "                                )"
      ],
      "metadata": {
        "colab": {
          "base_uri": "https://localhost:8080/"
        },
        "id": "HtZtqU3OOA77",
        "outputId": "20c79fe3-bd03-4de4-86fa-75489c876b28"
      },
      "execution_count": 10,
      "outputs": [
        {
          "output_type": "stream",
          "name": "stdout",
          "text": [
            "Epoch 1/512\n",
            "469/469 [==============================] - 5s 4ms/step - loss: 0.5222 - accuracy: 0.8142 - val_loss: 0.4060 - val_accuracy: 0.8526\n",
            "Epoch 2/512\n",
            "469/469 [==============================] - 2s 5ms/step - loss: 0.3664 - accuracy: 0.8681 - val_loss: 0.3730 - val_accuracy: 0.8642\n",
            "Epoch 3/512\n",
            "469/469 [==============================] - 2s 4ms/step - loss: 0.3310 - accuracy: 0.8802 - val_loss: 0.3487 - val_accuracy: 0.8731\n",
            "Epoch 4/512\n",
            "469/469 [==============================] - 2s 4ms/step - loss: 0.3043 - accuracy: 0.8874 - val_loss: 0.3306 - val_accuracy: 0.8795\n",
            "Epoch 5/512\n",
            "469/469 [==============================] - 2s 4ms/step - loss: 0.2840 - accuracy: 0.8945 - val_loss: 0.3395 - val_accuracy: 0.8812\n",
            "Epoch 6/512\n",
            "469/469 [==============================] - 2s 5ms/step - loss: 0.2678 - accuracy: 0.9009 - val_loss: 0.3251 - val_accuracy: 0.8823\n",
            "Epoch 7/512\n",
            "469/469 [==============================] - 2s 4ms/step - loss: 0.2540 - accuracy: 0.9038 - val_loss: 0.3322 - val_accuracy: 0.8844\n",
            "Epoch 8/512\n",
            "469/469 [==============================] - 2s 4ms/step - loss: 0.2403 - accuracy: 0.9100 - val_loss: 0.3278 - val_accuracy: 0.8892\n",
            "Epoch 9/512\n",
            "469/469 [==============================] - 3s 6ms/step - loss: 0.2252 - accuracy: 0.9162 - val_loss: 0.3234 - val_accuracy: 0.8940\n",
            "Epoch 10/512\n",
            "469/469 [==============================] - 2s 4ms/step - loss: 0.2179 - accuracy: 0.9187 - val_loss: 0.3347 - val_accuracy: 0.8934\n",
            "Epoch 11/512\n",
            "469/469 [==============================] - 2s 4ms/step - loss: 0.2078 - accuracy: 0.9214 - val_loss: 0.3176 - val_accuracy: 0.8932\n",
            "Epoch 12/512\n",
            "469/469 [==============================] - 2s 4ms/step - loss: 0.1972 - accuracy: 0.9262 - val_loss: 0.3555 - val_accuracy: 0.8884\n",
            "Epoch 13/512\n",
            "469/469 [==============================] - 2s 4ms/step - loss: 0.1916 - accuracy: 0.9279 - val_loss: 0.3271 - val_accuracy: 0.8957\n",
            "Epoch 14/512\n",
            "469/469 [==============================] - 2s 4ms/step - loss: 0.1827 - accuracy: 0.9312 - val_loss: 0.3419 - val_accuracy: 0.8978\n",
            "Epoch 15/512\n",
            "469/469 [==============================] - 2s 4ms/step - loss: 0.1774 - accuracy: 0.9334 - val_loss: 0.3385 - val_accuracy: 0.8958\n",
            "Epoch 16/512\n",
            "469/469 [==============================] - 2s 5ms/step - loss: 0.1680 - accuracy: 0.9368 - val_loss: 0.3447 - val_accuracy: 0.8983\n",
            "Epoch 17/512\n",
            "469/469 [==============================] - 2s 4ms/step - loss: 0.1635 - accuracy: 0.9391 - val_loss: 0.3546 - val_accuracy: 0.8889\n",
            "Epoch 18/512\n",
            "469/469 [==============================] - 2s 4ms/step - loss: 0.1582 - accuracy: 0.9398 - val_loss: 0.3455 - val_accuracy: 0.8979\n",
            "Epoch 19/512\n",
            "469/469 [==============================] - 2s 4ms/step - loss: 0.1509 - accuracy: 0.9425 - val_loss: 0.3736 - val_accuracy: 0.8969\n",
            "Epoch 20/512\n",
            "469/469 [==============================] - 2s 4ms/step - loss: 0.1467 - accuracy: 0.9446 - val_loss: 0.3662 - val_accuracy: 0.9002\n",
            "Epoch 21/512\n",
            "469/469 [==============================] - 2s 4ms/step - loss: 0.1408 - accuracy: 0.9461 - val_loss: 0.3708 - val_accuracy: 0.8965\n",
            "Epoch 22/512\n",
            "469/469 [==============================] - 2s 4ms/step - loss: 0.1375 - accuracy: 0.9479 - val_loss: 0.3889 - val_accuracy: 0.8942\n",
            "Epoch 23/512\n",
            "469/469 [==============================] - 2s 5ms/step - loss: 0.1346 - accuracy: 0.9492 - val_loss: 0.3909 - val_accuracy: 0.8963\n",
            "Epoch 24/512\n",
            "469/469 [==============================] - 2s 5ms/step - loss: 0.1295 - accuracy: 0.9509 - val_loss: 0.3802 - val_accuracy: 0.8969\n",
            "Epoch 25/512\n",
            "469/469 [==============================] - 2s 4ms/step - loss: 0.1263 - accuracy: 0.9528 - val_loss: 0.4080 - val_accuracy: 0.8944\n",
            "Epoch 26/512\n",
            "469/469 [==============================] - 2s 4ms/step - loss: 0.1185 - accuracy: 0.9552 - val_loss: 0.4212 - val_accuracy: 0.8970\n",
            "Epoch 27/512\n",
            "469/469 [==============================] - 2s 5ms/step - loss: 0.1212 - accuracy: 0.9551 - val_loss: 0.3955 - val_accuracy: 0.9020\n",
            "Epoch 28/512\n",
            "469/469 [==============================] - 2s 4ms/step - loss: 0.1120 - accuracy: 0.9581 - val_loss: 0.4109 - val_accuracy: 0.8937\n",
            "Epoch 29/512\n",
            "469/469 [==============================] - 2s 4ms/step - loss: 0.1130 - accuracy: 0.9579 - val_loss: 0.4062 - val_accuracy: 0.8975\n",
            "Epoch 30/512\n",
            "469/469 [==============================] - 2s 5ms/step - loss: 0.1074 - accuracy: 0.9603 - val_loss: 0.4257 - val_accuracy: 0.8972\n",
            "Epoch 31/512\n",
            "469/469 [==============================] - 2s 4ms/step - loss: 0.1067 - accuracy: 0.9600 - val_loss: 0.4292 - val_accuracy: 0.8952\n",
            "Epoch 32/512\n",
            "469/469 [==============================] - 2s 4ms/step - loss: 0.1039 - accuracy: 0.9609 - val_loss: 0.4209 - val_accuracy: 0.8960\n",
            "Epoch 33/512\n",
            "469/469 [==============================] - 2s 4ms/step - loss: 0.1000 - accuracy: 0.9626 - val_loss: 0.4772 - val_accuracy: 0.8967\n",
            "Epoch 34/512\n",
            "469/469 [==============================] - 2s 4ms/step - loss: 0.0990 - accuracy: 0.9626 - val_loss: 0.4378 - val_accuracy: 0.8979\n",
            "Epoch 35/512\n",
            "469/469 [==============================] - 2s 4ms/step - loss: 0.0972 - accuracy: 0.9637 - val_loss: 0.4433 - val_accuracy: 0.8981\n",
            "Epoch 36/512\n",
            "469/469 [==============================] - 2s 4ms/step - loss: 0.0942 - accuracy: 0.9648 - val_loss: 0.4631 - val_accuracy: 0.8911\n",
            "Epoch 37/512\n",
            "469/469 [==============================] - 2s 5ms/step - loss: 0.0907 - accuracy: 0.9658 - val_loss: 0.4641 - val_accuracy: 0.8997\n",
            "Epoch 37: early stopping\n"
          ]
        }
      ]
    },
    {
      "cell_type": "code",
      "source": [
        "weights_1 = model_1.get_weights()\n",
        "weights_2 = model_2.get_weights()\n",
        "\n",
        "weights_diff = []\n",
        "\n",
        "for i in range(len(weights_1)):\n",
        "    weights_diff.append(weights_1[i] - weights_2[i])\n",
        "\n",
        "weights_3 = []\n",
        "\n",
        "for i in range(len(weights_diff)):\n",
        "    weights_3.append(np.where(weights_diff[i] > np.percentile(weights_diff[i], 50), weights_2[i], 0))\n",
        "\n",
        "model_3 = clone_model(model_1)\n",
        "\n",
        "model_3.set_weights(weights_3)\n",
        "\n",
        "model_3.compile(loss=\"categorical_crossentropy\", optimizer=Adam(learning_rate=0.001), metrics=['accuracy'])"
      ],
      "metadata": {
        "id": "b0G0TalMOqvA"
      },
      "execution_count": 11,
      "outputs": []
    },
    {
      "cell_type": "code",
      "source": [
        "model_3.summary()"
      ],
      "metadata": {
        "colab": {
          "base_uri": "https://localhost:8080/"
        },
        "id": "UT_llJ27ShFz",
        "outputId": "f82a650a-fb87-4b7e-874d-61b564d0104e"
      },
      "execution_count": 12,
      "outputs": [
        {
          "output_type": "stream",
          "name": "stdout",
          "text": [
            "Model: \"sequential\"\n",
            "_________________________________________________________________\n",
            " Layer (type)                Output Shape              Param #   \n",
            "=================================================================\n",
            " flatten (Flatten)           (None, 784)               0         \n",
            "                                                                 \n",
            " batch_normalization (BatchN  (None, 784)              3136      \n",
            " ormalization)                                                   \n",
            "                                                                 \n",
            " dense (Dense)               (None, 512)               401920    \n",
            "                                                                 \n",
            " dropout (Dropout)           (None, 512)               0         \n",
            "                                                                 \n",
            " dense_1 (Dense)             (None, 128)               65664     \n",
            "                                                                 \n",
            " dropout_1 (Dropout)         (None, 128)               0         \n",
            "                                                                 \n",
            " dense_2 (Dense)             (None, 64)                8256      \n",
            "                                                                 \n",
            " dropout_2 (Dropout)         (None, 64)                0         \n",
            "                                                                 \n",
            " Output (Dense)              (None, 10)                650       \n",
            "                                                                 \n",
            "=================================================================\n",
            "Total params: 479,626\n",
            "Trainable params: 478,058\n",
            "Non-trainable params: 1,568\n",
            "_________________________________________________________________\n"
          ]
        }
      ]
    },
    {
      "cell_type": "code",
      "source": [
        "score_3 = model_3.evaluate(x_test, y_sparse_test, verbose=0)\n",
        "print('Accuracy for model 3 before training:', score_3[1])"
      ],
      "metadata": {
        "colab": {
          "base_uri": "https://localhost:8080/"
        },
        "id": "9fbzB-27O7vz",
        "outputId": "3f473d61-7f6a-48b4-b8a6-9ec99077c73b"
      },
      "execution_count": 13,
      "outputs": [
        {
          "output_type": "stream",
          "name": "stdout",
          "text": [
            "Accuracy for model 3 before training: 0.11749999970197678\n"
          ]
        }
      ]
    },
    {
      "cell_type": "code",
      "source": [
        "model_trained_3 = model_3.fit(x_train,\n",
        "                              y_sparse_train,\n",
        "                              epochs=512, batch_size=128,\n",
        "                              verbose=1,\n",
        "                              validation_data = (x_test, y_sparse_test),\n",
        "                              callbacks=[hp.callback_EarlyStopping()],\n",
        "                              )"
      ],
      "metadata": {
        "colab": {
          "base_uri": "https://localhost:8080/"
        },
        "id": "tSsRsHwrPCp4",
        "outputId": "f4812b24-a755-4340-d09c-f0985d9de287"
      },
      "execution_count": 14,
      "outputs": [
        {
          "output_type": "stream",
          "name": "stdout",
          "text": [
            "Epoch 1/512\n",
            "469/469 [==============================] - 2s 4ms/step - loss: 0.9769 - accuracy: 0.6241 - val_loss: 0.4991 - val_accuracy: 0.8178\n",
            "Epoch 2/512\n",
            "469/469 [==============================] - 2s 4ms/step - loss: 0.4688 - accuracy: 0.8327 - val_loss: 0.4069 - val_accuracy: 0.8530\n",
            "Epoch 3/512\n",
            "469/469 [==============================] - 2s 5ms/step - loss: 0.3888 - accuracy: 0.8605 - val_loss: 0.3766 - val_accuracy: 0.8603\n",
            "Epoch 4/512\n",
            "469/469 [==============================] - 2s 4ms/step - loss: 0.3436 - accuracy: 0.8767 - val_loss: 0.3535 - val_accuracy: 0.8701\n",
            "Epoch 5/512\n",
            "469/469 [==============================] - 2s 4ms/step - loss: 0.3217 - accuracy: 0.8824 - val_loss: 0.3453 - val_accuracy: 0.8762\n",
            "Epoch 6/512\n",
            "469/469 [==============================] - 2s 4ms/step - loss: 0.3006 - accuracy: 0.8902 - val_loss: 0.3564 - val_accuracy: 0.8719\n",
            "Epoch 7/512\n",
            "469/469 [==============================] - 2s 4ms/step - loss: 0.2837 - accuracy: 0.8961 - val_loss: 0.3316 - val_accuracy: 0.8810\n",
            "Epoch 8/512\n",
            "469/469 [==============================] - 2s 4ms/step - loss: 0.2676 - accuracy: 0.9014 - val_loss: 0.3366 - val_accuracy: 0.8810\n",
            "Epoch 9/512\n",
            "469/469 [==============================] - 2s 4ms/step - loss: 0.2570 - accuracy: 0.9039 - val_loss: 0.3257 - val_accuracy: 0.8862\n",
            "Epoch 10/512\n",
            "469/469 [==============================] - 2s 5ms/step - loss: 0.2427 - accuracy: 0.9094 - val_loss: 0.3262 - val_accuracy: 0.8837\n",
            "Epoch 11/512\n",
            "469/469 [==============================] - 2s 4ms/step - loss: 0.2367 - accuracy: 0.9117 - val_loss: 0.3193 - val_accuracy: 0.8892\n",
            "Epoch 12/512\n",
            "469/469 [==============================] - 2s 4ms/step - loss: 0.2283 - accuracy: 0.9144 - val_loss: 0.3227 - val_accuracy: 0.8884\n",
            "Epoch 13/512\n",
            "469/469 [==============================] - 2s 4ms/step - loss: 0.2178 - accuracy: 0.9175 - val_loss: 0.3289 - val_accuracy: 0.8877\n",
            "Epoch 14/512\n",
            "469/469 [==============================] - 2s 4ms/step - loss: 0.2105 - accuracy: 0.9227 - val_loss: 0.3341 - val_accuracy: 0.8847\n",
            "Epoch 15/512\n",
            "469/469 [==============================] - 2s 4ms/step - loss: 0.2054 - accuracy: 0.9241 - val_loss: 0.3214 - val_accuracy: 0.8919\n",
            "Epoch 16/512\n",
            "469/469 [==============================] - 2s 4ms/step - loss: 0.1976 - accuracy: 0.9264 - val_loss: 0.3312 - val_accuracy: 0.8933\n",
            "Epoch 17/512\n",
            "469/469 [==============================] - 2s 5ms/step - loss: 0.1891 - accuracy: 0.9280 - val_loss: 0.3352 - val_accuracy: 0.8884\n",
            "Epoch 18/512\n",
            "469/469 [==============================] - 2s 4ms/step - loss: 0.1822 - accuracy: 0.9309 - val_loss: 0.3404 - val_accuracy: 0.8935\n",
            "Epoch 19/512\n",
            "469/469 [==============================] - 2s 4ms/step - loss: 0.1787 - accuracy: 0.9333 - val_loss: 0.3338 - val_accuracy: 0.8912\n",
            "Epoch 20/512\n",
            "469/469 [==============================] - 2s 4ms/step - loss: 0.1761 - accuracy: 0.9339 - val_loss: 0.3546 - val_accuracy: 0.8877\n",
            "Epoch 21/512\n",
            "469/469 [==============================] - 2s 4ms/step - loss: 0.1699 - accuracy: 0.9368 - val_loss: 0.3439 - val_accuracy: 0.8902\n",
            "Epoch 22/512\n",
            "469/469 [==============================] - 2s 4ms/step - loss: 0.1647 - accuracy: 0.9390 - val_loss: 0.3513 - val_accuracy: 0.8911\n",
            "Epoch 23/512\n",
            "469/469 [==============================] - 2s 4ms/step - loss: 0.1587 - accuracy: 0.9408 - val_loss: 0.3611 - val_accuracy: 0.8919\n",
            "Epoch 24/512\n",
            "469/469 [==============================] - 2s 5ms/step - loss: 0.1567 - accuracy: 0.9420 - val_loss: 0.3579 - val_accuracy: 0.8893\n",
            "Epoch 25/512\n",
            "469/469 [==============================] - 2s 4ms/step - loss: 0.1557 - accuracy: 0.9419 - val_loss: 0.3712 - val_accuracy: 0.8922\n",
            "Epoch 26/512\n",
            "469/469 [==============================] - 2s 4ms/step - loss: 0.1471 - accuracy: 0.9456 - val_loss: 0.3664 - val_accuracy: 0.8926\n",
            "Epoch 27/512\n",
            "469/469 [==============================] - 2s 4ms/step - loss: 0.1423 - accuracy: 0.9477 - val_loss: 0.3606 - val_accuracy: 0.8912\n",
            "Epoch 28/512\n",
            "469/469 [==============================] - 2s 4ms/step - loss: 0.1403 - accuracy: 0.9472 - val_loss: 0.3855 - val_accuracy: 0.8904\n",
            "Epoch 29/512\n",
            "469/469 [==============================] - 2s 4ms/step - loss: 0.1355 - accuracy: 0.9493 - val_loss: 0.3633 - val_accuracy: 0.8950\n",
            "Epoch 30/512\n",
            "469/469 [==============================] - 2s 4ms/step - loss: 0.1363 - accuracy: 0.9492 - val_loss: 0.3733 - val_accuracy: 0.8932\n",
            "Epoch 31/512\n",
            "469/469 [==============================] - 2s 5ms/step - loss: 0.1331 - accuracy: 0.9507 - val_loss: 0.3879 - val_accuracy: 0.8899\n",
            "Epoch 32/512\n",
            "469/469 [==============================] - 2s 4ms/step - loss: 0.1313 - accuracy: 0.9506 - val_loss: 0.3871 - val_accuracy: 0.8944\n",
            "Epoch 33/512\n",
            "469/469 [==============================] - 2s 4ms/step - loss: 0.1285 - accuracy: 0.9528 - val_loss: 0.3712 - val_accuracy: 0.8931\n",
            "Epoch 34/512\n",
            "469/469 [==============================] - 2s 4ms/step - loss: 0.1229 - accuracy: 0.9538 - val_loss: 0.3905 - val_accuracy: 0.8947\n",
            "Epoch 35/512\n",
            "469/469 [==============================] - 2s 4ms/step - loss: 0.1222 - accuracy: 0.9548 - val_loss: 0.3891 - val_accuracy: 0.8923\n",
            "Epoch 36/512\n",
            "469/469 [==============================] - 2s 4ms/step - loss: 0.1186 - accuracy: 0.9557 - val_loss: 0.3982 - val_accuracy: 0.8927\n",
            "Epoch 37/512\n",
            "469/469 [==============================] - 2s 4ms/step - loss: 0.1151 - accuracy: 0.9567 - val_loss: 0.3963 - val_accuracy: 0.8937\n",
            "Epoch 38/512\n",
            "469/469 [==============================] - 2s 5ms/step - loss: 0.1158 - accuracy: 0.9574 - val_loss: 0.3977 - val_accuracy: 0.8938\n",
            "Epoch 39/512\n",
            "469/469 [==============================] - 2s 5ms/step - loss: 0.1116 - accuracy: 0.9587 - val_loss: 0.3980 - val_accuracy: 0.8934\n",
            "Epoch 39: early stopping\n"
          ]
        }
      ]
    },
    {
      "cell_type": "code",
      "source": [
        "# Plot accuracy\n",
        "plt.figure(figsize=(10,5))\n",
        "plt.plot(model_trained_2.history['accuracy'])\n",
        "plt.plot(model_trained_2.history['val_accuracy'])\n",
        "plt.plot(model_trained_3.history['accuracy'])\n",
        "plt.plot(model_trained_3.history['val_accuracy'])\n",
        "plt.title('Accuracy')\n",
        "plt.ylabel('Accuracy')\n",
        "plt.xlabel('Epoch')\n",
        "plt.legend(['Train - model 2', 'Test - model 2', 'Train - model 3', 'Test - model 3'])\n",
        "plt.grid()\n",
        "plt.show()"
      ],
      "metadata": {
        "colab": {
          "base_uri": "https://localhost:8080/",
          "height": 487
        },
        "id": "O0K4-fQSPL9_",
        "outputId": "4b2e0614-f532-4b1c-874a-161af2ee2d7f"
      },
      "execution_count": 15,
      "outputs": [
        {
          "output_type": "display_data",
          "data": {
            "text/plain": [
              "<Figure size 1000x500 with 1 Axes>"
            ],
            "image/png": "[encoded data removed]"
          },
          "metadata": {}
        }
      ]
    }
  ],
  "metadata": {
    "colab": {
      "provenance": [],
      "gpuType": "T4"
    },
    "kernelspec": {
      "display_name": "Python 3",
      "name": "python3"
    },
    "language_info": {
      "codemirror_mode": {
        "name": "ipython",
        "version": 3
      },
      "file_extension": ".py",
      "mimetype": "text/x-python",
      "name": "python",
      "nbconvert_exporter": "python",
      "pygments_lexer": "ipython3",
      "version": "3.10.0"
    },
    "accelerator": "GPU"
  },
  "nbformat": 4,
  "nbformat_minor": 0
}